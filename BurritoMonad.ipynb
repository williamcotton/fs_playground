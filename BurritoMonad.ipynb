{
 "cells": [
  {
   "cell_type": "code",
   "execution_count": null,
   "metadata": {
    "dotnet_interactive": {
     "language": "fsharp"
    },
    "polyglot_notebook": {
     "kernelName": "fsharp"
    }
   },
   "outputs": [],
   "source": [
    "type Meat = Chicken | Beef | Pork | Fish | Tofu\n",
    "\n",
    "type Ingredient = \n",
    "    | Cheese | Rice | Beans | Salsa | Guacamole | SourCream | Lettuce\n",
    "    | Tomato | Onion | Cilantro | PicoDeGallo\n",
    "\n",
    "type Burrito = Meat option * Ingredient list\n",
    "\n",
    "let tortilla =\n",
    "    Some (), []\n",
    "\n",
    "let addMeat meat burrito =\n",
    "    match burrito with\n",
    "    | Some _, ingredients -> Some meat, ingredients\n",
    "    | None, _ -> None, []\n",
    "\n",
    "let addIngredient ingredient burrito =\n",
    "    match burrito with\n",
    "    | Some meat, ingredients -> Some meat, ingredient :: ingredients\n",
    "    | None, _ -> None, []\n",
    "\n",
    "let addMissionBurritoIngredients burrito =\n",
    "    match burrito with\n",
    "    | Some meat, ingredients -> Some meat, [Cheese; Rice; Beans] @ ingredients\n",
    "    | None, _ -> None, []\n",
    "\n",
    "let holdThe ingredient burrito =\n",
    "    match burrito with\n",
    "    | Some meat, ingredients -> Some meat, List.filter (fun i -> i <> ingredient) ingredients\n",
    "    | None, _ -> None, []\n",
    "\n",
    "let (>>=) burrito f =\n",
    "    match burrito with\n",
    "    | Some meat, ingredients -> f (Some meat, ingredients)\n",
    "    | None, _ -> None, []\n",
    "\n",
    "let burrito = \n",
    "  tortilla\n",
    "  >>= addMeat Chicken \n",
    "  >>= addMissionBurritoIngredients\n",
    "  >>= holdThe Cheese\n",
    "  >>= addIngredient PicoDeGallo \n",
    "  >>= addIngredient Salsa\n",
    "  >>= addIngredient Guacamole\n",
    "  >>= addIngredient SourCream \n",
    "\n",
    "printfn \"%A\" burrito"
   ]
  },
  {
   "cell_type": "code",
   "execution_count": null,
   "metadata": {
    "dotnet_interactive": {
     "language": "fsharp"
    },
    "polyglot_notebook": {
     "kernelName": "fsharp"
    }
   },
   "outputs": [],
   "source": [
    "type Meat = Chicken | Beef | Pork | Fish | Veggie\n",
    "\n",
    "type Ingredient = \n",
    "    | Cheese | Rice | Beans | Salsa | Guacamole | SourCream | Lettuce\n",
    "    | Tomato | Onion | Cilantro | PicoDeGallo\n",
    "\n",
    "type Burrito = Meat option * Ingredient list\n",
    "\n",
    "let (>>=) burrito f =\n",
    "    match burrito with\n",
    "    | Some meat, ingredients -> f (Some meat, ingredients)\n",
    "    | None, _ -> None, []\n",
    "\n",
    "let returnBurrito (meat, ingredients) = meat, ingredients\n",
    "\n",
    "let tortilla = returnBurrito (Some Veggie, [])\n",
    "\n",
    "let addMeat meat (m, ingredients) = Some meat, ingredients\n",
    "\n",
    "let addIngredient ingredient (meat, ingredients) =\n",
    "    meat, ingredient :: ingredients\n",
    "\n",
    "let addMissionBurritoIngredients (meat, ingredients) =\n",
    "    meat, Cheese :: Rice :: Beans :: ingredients\n",
    "\n",
    "let holdThe ingredient (meat, ingredients) =\n",
    "    meat, List.filter (fun i -> i <> ingredient) ingredients\n",
    "\n",
    "let burrito = \n",
    "    tortilla\n",
    "    >>= addMeat Chicken\n",
    "    >>= addMissionBurritoIngredients\n",
    "    >>= holdThe Cheese\n",
    "    >>= addIngredient PicoDeGallo\n",
    "    >>= addIngredient Salsa\n",
    "    >>= addIngredient Guacamole\n",
    "    >>= addIngredient SourCream\n",
    "\n",
    "printfn \"%A\" burrito"
   ]
  },
  {
   "cell_type": "code",
   "execution_count": null,
   "metadata": {
    "dotnet_interactive": {
     "language": "fsharp"
    },
    "polyglot_notebook": {
     "kernelName": "fsharp"
    }
   },
   "outputs": [],
   "source": [
    "type Meat = Chicken | Beef | Pork | Fish | Veggie\n",
    "type Ingredient = Cheese | Rice | Beans | Salsa | Guacamole | SourCream | Lettuce | Tomato | Onion | Cilantro | PicoDeGallo\n",
    "\n",
    "type BurritoState = { Meat: Meat option; Ingredients: Ingredient list }\n",
    "\n",
    "type Burrito<'a> = Burrito of (BurritoState -> ('a * BurritoState))\n",
    "\n",
    "type BurritoBuilder() =\n",
    "    member _.Return(x) = Burrito(fun state -> (x, state))\n",
    "    member _.Bind(Burrito(m), f) = \n",
    "        Burrito(fun state -> \n",
    "            let (a, newState) = m(state)\n",
    "            let (Burrito n) = f(a)\n",
    "            n(newState))\n",
    "    member _.Zero() = Burrito(fun state -> ((), state))\n",
    "    member this.Delay(f) = Burrito(fun state -> let (Burrito g) = f() in g(state))\n",
    "\n",
    "    member this.AddMeat(meat) = \n",
    "        Burrito(fun state -> ((), { state with Meat = Some meat }))\n",
    "    member this.AddIngredient(ingredient) = \n",
    "        Burrito(fun state -> ((), { state with Ingredients = ingredient :: state.Ingredients }))\n",
    "    member this.RemoveIngredient(ingredient) = \n",
    "        Burrito(fun state -> ((), { state with Ingredients = List.filter ((<>) ingredient) state.Ingredients }))\n",
    "\n",
    "let burrito = BurritoBuilder()\n",
    "\n",
    "let buildBurrito = burrito {\n",
    "    do! burrito.AddMeat Chicken\n",
    "    do! burrito.AddIngredient Cheese\n",
    "    do! burrito.AddIngredient Rice\n",
    "    do! burrito.AddIngredient Beans\n",
    "    do! burrito.RemoveIngredient Cheese  // Decided no cheese after all\n",
    "    do! burrito.AddIngredient PicoDeGallo\n",
    "    do! burrito.AddIngredient Salsa\n",
    "    do! burrito.AddIngredient Guacamole\n",
    "    do! burrito.AddIngredient SourCream\n",
    "    return \"Your burrito is ready!\"\n",
    "}\n",
    "\n",
    "// Initial empty state of the burrito\n",
    "let initialState = { Meat = None; Ingredients = [] }\n",
    "\n",
    "// Running the computation\n",
    "let (message, finalState) = let (Burrito f) = buildBurrito in f(initialState)\n",
    "\n",
    "printfn \"%s\" message\n",
    "printfn \"%A\" finalState"
   ]
  },
  {
   "cell_type": "code",
   "execution_count": 1,
   "metadata": {
    "dotnet_interactive": {
     "language": "fsharp"
    },
    "polyglot_notebook": {
     "kernelName": "fsharp"
    }
   },
   "outputs": [
    {
     "name": "stdout",
     "output_type": "stream",
     "text": [
      "{ Name = \"Arthur\"\n",
      "  Inventory = [Sword; Potion; Gold 50]\n",
      "  Health = 30\n",
      "  Status = Alive }\n",
      "Logs: The adventure begins!\n",
      "Gold 50 found!\n",
      "Potion found!\n",
      "Encountered enemy, health now 80\n",
      "Sword found!\n",
      "Encountered enemy, health now 30\n"
     ]
    }
   ],
   "source": [
    "type Item = Sword | Shield | Potion | Gold of int\n",
    "type Status = Alive | Dead\n",
    "\n",
    "type Hero = {\n",
    "    Name: string\n",
    "    Inventory: Item list\n",
    "    Health: int\n",
    "    Status: Status\n",
    "}\n",
    "\n",
    "type Adventure = Hero option * string list\n",
    "\n",
    "let startAdventure initialHero = \n",
    "  Some initialHero, [\"The adventure begins!\"]\n",
    "\n",
    "let findItem item (hero, logs) =\n",
    "    match hero with\n",
    "    | Some h when h.Status = Alive -> Some { h with Inventory = item :: h.Inventory }, (item.ToString() + \" found!\") :: logs\n",
    "    | _ -> None, \"No hero to receive the item...\" :: logs\n",
    "\n",
    "let encounterEnemy damage (hero, logs) =\n",
    "    match hero with\n",
    "    | Some h when h.Health > damage -> \n",
    "        let newHealth = h.Health - damage\n",
    "        let newStatus = if newHealth > 0 then Alive else Dead\n",
    "        Some { h with Health = newHealth; Status = newStatus }, (\"Encountered enemy, health now \" + newHealth.ToString()) :: logs\n",
    "    | Some h -> None, (\"Hero fell in battle...\") :: logs\n",
    "    | None -> None, \"No hero to fight the enemy...\" :: logs\n",
    "\n",
    "let (>>=) adventure f =\n",
    "    match adventure with\n",
    "    | Some hero, logs when hero.Status = Alive -> f (Some hero, logs)\n",
    "    | _ -> adventure  // Return the current state without further processing\n",
    "\n",
    "\n",
    "let completeAdventure = \n",
    "    startAdventure {\n",
    "        Name = \"Arthur\"\n",
    "        Inventory = []\n",
    "        Health = 100\n",
    "        Status = Alive\n",
    "    }\n",
    "    >>= findItem (Gold 50)\n",
    "    >>= findItem Potion\n",
    "    >>= encounterEnemy 20\n",
    "    >>= findItem Sword\n",
    "    >>= encounterEnemy 50\n",
    "\n",
    "match completeAdventure with\n",
    "| Some hero, logs -> \n",
    "    printfn \"%A\" hero\n",
    "    printfn \"Logs: %s\" (String.Join(\"\\n\", List.rev logs))\n",
    "| None, logs -> \n",
    "    printfn \"Logs: %s\" (String.Join(\"\\n\", List.rev logs))\n"
   ]
  }
 ],
 "metadata": {
  "kernelspec": {
   "display_name": ".NET (C#)",
   "language": "C#",
   "name": ".net-csharp"
  },
  "polyglot_notebook": {
   "kernelInfo": {
    "defaultKernelName": "csharp",
    "items": [
     {
      "aliases": [],
      "name": "csharp"
     },
     {
      "aliases": [],
      "languageName": "fsharp",
      "name": "fsharp"
     }
    ]
   }
  }
 },
 "nbformat": 4,
 "nbformat_minor": 2
}
