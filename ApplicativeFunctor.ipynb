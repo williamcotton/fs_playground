{
 "cells": [
  {
   "cell_type": "code",
   "execution_count": 8,
   "metadata": {
    "dotnet_interactive": {
     "language": "fsharp"
    },
    "polyglot_notebook": {
     "kernelName": "fsharp"
    }
   },
   "outputs": [
    {
     "name": "stdout",
     "output_type": "stream",
     "text": [
      "Some { Name = \"John\"\n",
      "       Age = 25 }\n",
      "None\n"
     ]
    }
   ],
   "source": [
    "// Validate name: must not be empty\n",
    "let validateName name =\n",
    "    if name <> \"\" then Some name\n",
    "    else None  // You could return Some(error message) or a more complex error type instead of None\n",
    "\n",
    "// Validate age: must be a positive integer\n",
    "let validateAge age =\n",
    "    if age > 0 then Some age\n",
    "    else None  // Similarly, this could be more descriptive about the failure\n",
    "\n",
    "let applyOption f x =\n",
    "    match f, x with\n",
    "    | Some f, Some v -> Some (f v)\n",
    "    | _, _ -> None\n",
    "\n",
    "// A person type to construct if validations pass\n",
    "type Person = { Name: string; Age: int }\n",
    "\n",
    "// Combining the validations using applicative functors\n",
    "let createPerson name age =\n",
    "    let validatedName = validateName name\n",
    "    let validatedAge = validateAge age\n",
    "\n",
    "    // Start with a function that takes name and age and returns a Person\n",
    "    // and apply it to the validated results\n",
    "    applyOption (applyOption (Some (fun name age -> { Name = name; Age = age })) validatedName) validatedAge\n",
    "\n",
    "// Example usage\n",
    "let validPerson = createPerson \"John\" 25  // Returns Some({Name = \"John\"; Age = 25})\n",
    "let invalidPerson = createPerson \"\" -5    // Returns None\n",
    "\n",
    "printfn \"%A\" validPerson\n",
    "printfn \"%A\" invalidPerson\n"
   ]
  },
  {
   "cell_type": "code",
   "execution_count": 9,
   "metadata": {
    "dotnet_interactive": {
     "language": "fsharp"
    },
    "polyglot_notebook": {
     "kernelName": "fsharp"
    }
   },
   "outputs": [
    {
     "name": "stdout",
     "output_type": "stream",
     "text": [
      "Some { Name = \"John\"\n",
      "       Age = 25 }\n",
      "None\n"
     ]
    }
   ],
   "source": [
    "// Define the applicative apply operator for Option\n",
    "let (<*>) fOpt xOpt =\n",
    "    match fOpt, xOpt with\n",
    "    | Some f, Some x -> Some (f x)\n",
    "    | _ -> None\n",
    "\n",
    "\n",
    "// A person type to construct if validations pass\n",
    "type Person = { Name: string; Age: int }\n",
    "\n",
    "// Validate name and age\n",
    "let validateName name =\n",
    "    if name <> \"\" then Some name\n",
    "    else None\n",
    "\n",
    "let validateAge age =\n",
    "    if age > 0 then Some age\n",
    "    else None\n",
    "\n",
    "// Combine validations using the custom infix operator\n",
    "let createPerson name age =\n",
    "    let validatedName = validateName name\n",
    "    let validatedAge = validateAge age\n",
    "\n",
    "    // Use the custom operator to apply the function to validated values\n",
    "    Some (fun name age -> { Name = name; Age = age }) \n",
    "    <*> validatedName \n",
    "    <*> validatedAge\n",
    "\n",
    "// Example usage\n",
    "let validPerson = createPerson \"John\" 25  // Returns Some({Name = \"John\"; Age = 25})\n",
    "let invalidPerson = createPerson \"\" -5    // Returns None\n",
    "\n",
    "printfn \"%A\" validPerson\n",
    "printfn \"%A\" invalidPerson\n"
   ]
  },
  {
   "cell_type": "code",
   "execution_count": 10,
   "metadata": {
    "dotnet_interactive": {
     "language": "fsharp"
    },
    "polyglot_notebook": {
     "kernelName": "fsharp"
    }
   },
   "outputs": [
    {
     "name": "stdout",
     "output_type": "stream",
     "text": [
      "Ok { Name = \"John\"\n",
      "     Age = 25 }\n",
      "Error \"Name must not be empty.\"\n"
     ]
    }
   ],
   "source": [
    "// Define the applicative apply operator for Result\n",
    "let (<*>) fRes xRes =\n",
    "    match fRes, xRes with\n",
    "    | Ok f, Ok x -> Ok (f x)\n",
    "    | Error e, _ -> Error e\n",
    "    | _, Error e -> Error e\n",
    "\n",
    "// A person type to construct if validations pass\n",
    "type Person = { Name: string; Age: int }\n",
    "\n",
    "// Validate name and return an appropriate Result\n",
    "let validateName name =\n",
    "    if name <> \"\" then Ok name\n",
    "    else Error \"Name must not be empty.\"\n",
    "\n",
    "// Validate age and return an appropriate Result\n",
    "let validateAge age =\n",
    "    if age > 0 then Ok age\n",
    "    else Error \"Age must be greater than zero.\"\n",
    "\n",
    "// Combine validations using the custom infix operator\n",
    "let createPerson name age =\n",
    "    let validatedName = validateName name\n",
    "    let validatedAge = validateAge age\n",
    "\n",
    "    // Use the custom operator to apply the function to validated values\n",
    "    Ok (fun name age -> { Name = name; Age = age }) \n",
    "    <*> validatedName \n",
    "    <*> validatedAge\n",
    "\n",
    "// Example usage\n",
    "let validPerson = createPerson \"John\" 25  // Returns Ok({Name = \"John\"; Age = 25})\n",
    "let invalidPerson = createPerson \"\" -5    // Returns Error(\"Name must not be empty.\")\n",
    "\n",
    "printfn \"%A\" validPerson\n",
    "printfn \"%A\" invalidPerson\n"
   ]
  },
  {
   "cell_type": "code",
   "execution_count": 11,
   "metadata": {
    "dotnet_interactive": {
     "language": "fsharp"
    },
    "polyglot_notebook": {
     "kernelName": "fsharp"
    }
   },
   "outputs": [
    {
     "name": "stdout",
     "output_type": "stream",
     "text": [
      "Success { Name = \"John\"\n",
      "          Age = 25 }\n",
      "Failure [\"Name must not be empty.\"; \"Age must be greater than zero.\"]\n"
     ]
    }
   ],
   "source": [
    "// Define a type for validation results that can hold either a value or a list of errors\n",
    "type Validation<'T> =\n",
    "    | Success of 'T\n",
    "    | Failure of string list\n",
    "\n",
    "// Define a custom applicative operator for Validation\n",
    "let (<*>) fVal xVal =\n",
    "    match fVal, xVal with\n",
    "    | Success f, Success x -> Success (f x)\n",
    "    | Failure e1, Failure e2 -> Failure (e1 @ e2) // Concatenate error lists\n",
    "    | Failure e, _ -> Failure e\n",
    "    | _, Failure e -> Failure e\n",
    "\n",
    "// A person type to construct if validations pass\n",
    "type Person = { Name: string; Age: int }\n",
    "\n",
    "// Validate name and return an appropriate Validation\n",
    "let validateName name =\n",
    "    if name <> \"\" then Success name\n",
    "    else Failure [\"Name must not be empty.\"]\n",
    "\n",
    "// Validate age and return an appropriate Validation\n",
    "let validateAge age =\n",
    "    if age > 0 then Success age\n",
    "    else Failure [\"Age must be greater than zero.\"]\n",
    "\n",
    "// Combine validations using the custom infix operator\n",
    "let createPerson name age =\n",
    "    let validatedName = validateName name\n",
    "    let validatedAge = validateAge age\n",
    "\n",
    "    // Use the custom operator to apply the function to validated values\n",
    "    Success (fun name age -> { Name = name; Age = age }) \n",
    "    <*> validatedName\n",
    "    <*> validatedAge\n",
    "\n",
    "// Example usage\n",
    "let validPerson = createPerson \"John\" 25  // Returns Success({Name = \"John\"; Age = 25})\n",
    "let invalidPerson = createPerson \"\" -5    // Returns Failure([\"Name must not be empty.\"; \"Age must be greater than zero.\"])\n",
    "\n",
    "printfn \"%A\" validPerson\n",
    "printfn \"%A\" invalidPerson\n"
   ]
  }
 ],
 "metadata": {
  "kernelspec": {
   "display_name": ".NET (C#)",
   "language": "C#",
   "name": ".net-csharp"
  },
  "polyglot_notebook": {
   "kernelInfo": {
    "defaultKernelName": "csharp",
    "items": [
     {
      "aliases": [],
      "name": "csharp"
     },
     {
      "aliases": [],
      "languageName": "fsharp",
      "name": "fsharp"
     }
    ]
   }
  }
 },
 "nbformat": 4,
 "nbformat_minor": 2
}
