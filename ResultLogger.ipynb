{
 "cells": [
  {
   "cell_type": "code",
   "execution_count": 11,
   "metadata": {
    "dotnet_interactive": {
     "language": "fsharp"
    },
    "polyglot_notebook": {
     "kernelName": "fsharp"
    }
   },
   "outputs": [
    {
     "name": "stdout",
     "output_type": "stream",
     "text": [
      "num1: (Success 51, { Logs = [\"multiply10 successful: 50\"; \"add1 successful: 51\"] })\n",
      "Final result: 51\n",
      "Logs: [\"multiply10 successful: 50\"; \"add1 successful: 51\"]\n",
      "An error occurred: result too large\n",
      "Logs: [\"multiply10 successful: 500\"; \"add1 failed: x too large\";\n",
      " \"Error: result too large\"]\n"
     ]
    }
   ],
   "source": [
    "type Result<'T> =\n",
    "    | Success of 'T\n",
    "    | Error of string\n",
    "\n",
    "type LogState = { Logs: string list }\n",
    "\n",
    "type ResultBuilder() =\n",
    "    member _.Bind(x, f) = \n",
    "        match x with\n",
    "        | Success v, (state: LogState) -> \n",
    "            let (result, newState) = f v\n",
    "            match result with\n",
    "            | Success _ ->\n",
    "              (result, { state with Logs = state.Logs @ newState.Logs })\n",
    "            | Error e -> (Error e, { state with Logs = state.Logs @ newState.Logs @ [sprintf \"Error: %s\" e] })\n",
    "        | Error e, state ->\n",
    "            (Error e, state)\n",
    "            \n",
    "    member _.Return(x) = \n",
    "        (Success x, { Logs = [] })\n",
    "    \n",
    "    member _.Zero() = \n",
    "        (Error \"stopped\", { Logs = [\"Computation stopped due to zero.\"] })\n",
    "\n",
    "    member _.Run x = x\n",
    "\n",
    "let result = ResultBuilder()\n",
    "\n",
    "let multiply10 x = \n",
    "    if x > 0 then (Success (x * 10), { Logs = [sprintf \"multiply10 successful: %d\" (x * 10)] })\n",
    "    else (Error \"x must be positive\", { Logs = [\"multiply10 failed: x must be positive\"] })\n",
    "    \n",
    "let add1 x = \n",
    "    if x < 100 then (Success (x + 1), { Logs = [sprintf \"add1 successful: %d\" (x + 1)] })\n",
    "    else (Error \"result too large\", { Logs = [\"add1 failed: x too large\"] })\n",
    "\n",
    "let num1 = result {\n",
    "    let! a = multiply10 5\n",
    "    let! b = add1 a\n",
    "    return b\n",
    "}\n",
    "\n",
    "printfn \"num1: %A\" num1\n",
    "\n",
    "match num1 with\n",
    "| Success finalResult, logs -> \n",
    "    printfn \"Final result: %d\" finalResult\n",
    "    printfn \"Logs: %A\" logs.Logs\n",
    "| Error e, logs -> \n",
    "    printfn \"An error occurred: %s\" e\n",
    "    printfn \"Logs: %A\" logs.Logs\n",
    "\n",
    "let num2 = result {\n",
    "    let! a = multiply10 50\n",
    "    let! b = add1 a\n",
    "    return b\n",
    "}\n",
    "\n",
    "match num2 with\n",
    "| Success finalResult, logs -> \n",
    "    printfn \"Final result: %d\" finalResult\n",
    "    printfn \"Logs: %A\" logs.Logs\n",
    "| Error e, logs ->\n",
    "    printfn \"An error occurred: %s\" e\n",
    "    printfn \"Logs: %A\" logs.Logs\n"
   ]
  }
 ],
 "metadata": {
  "kernelspec": {
   "display_name": ".NET (C#)",
   "language": "C#",
   "name": ".net-csharp"
  },
  "polyglot_notebook": {
   "kernelInfo": {
    "defaultKernelName": "csharp",
    "items": [
     {
      "aliases": [],
      "name": "csharp"
     },
     {
      "aliases": [],
      "languageName": "fsharp",
      "name": "fsharp"
     }
    ]
   }
  }
 },
 "nbformat": 4,
 "nbformat_minor": 2
}
