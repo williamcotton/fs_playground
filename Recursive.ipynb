{
 "cells": [
  {
   "cell_type": "code",
   "execution_count": null,
   "metadata": {
    "dotnet_interactive": {
     "language": "fsharp"
    },
    "polyglot_notebook": {
     "kernelName": "fsharp"
    }
   },
   "outputs": [],
   "source": [
    "let rec head = function\n",
    "  | [] -> None\n",
    "  | x::xs -> Some x\n",
    "\n",
    "head [1;2;3]\n",
    "\n",
    "let rec maximum = function\n",
    "  | [] -> failwith \"empty list\"\n",
    "  | [x] -> x\n",
    "  | x::xs -> max x (maximum xs)\n",
    "\n",
    "maximum [3;6;2]\n",
    "\n",
    "let rec take n = function\n",
    "  | [] -> []\n",
    "  | _ when n = 0 -> []\n",
    "  | x::xs -> x::(take (n - 1) xs)\n",
    "\n",
    "take 2 [1;2;3;4]\n",
    "\n",
    "let rec reverse = function\n",
    "  | [] -> []\n",
    "  | x::xs -> reverse xs @ [x]\n",
    "\n",
    "reverse [1;2;3]\n",
    "\n",
    "let rec quicksort = function\n",
    "  | [] -> []\n",
    "  |  x::xs ->\n",
    "      let smallerOrEqual = xs |> List.filter (fun e -> e <= x)\n",
    "      let greaterThan = xs |> List.filter (fun e -> e > x)\n",
    "      quicksort smallerOrEqual @ [x] @ quicksort greaterThan\n",
    "\n",
    "quicksort [4;7;2;8;4;5;1]\n",
    "\n",
    "let rec zip xs ys =\n",
    "  match xs, ys with\n",
    "  | [], _ -> []\n",
    "  | _, [] -> []\n",
    "  | x::xs, y::ys -> (x, y)::zip xs ys\n",
    "\n",
    "zip [1;2;3] [4;5;6]\n",
    "\n",
    "let rec zipWith f xs ys =\n",
    "  match xs, ys with\n",
    "  | [], _ -> []\n",
    "  | _, [] -> []\n",
    "  | x::xs, y::ys -> f x y::zipWith f xs ys\n",
    "\n",
    "zipWith (+) [1;2;3] [4;5;6]\n",
    "\n",
    "let rec map f xs =\n",
    "  match xs with\n",
    "  | [] -> []\n",
    "  | x::xs -> f x::map f xs\n",
    "\n",
    "map (fun x -> x + 1) [1;2;3]\n",
    "\n",
    "let rec filter f xs =\n",
    "  match xs with\n",
    "  | [] -> []\n",
    "  | x::xs -> if f x then x::filter f xs else filter f xs\n",
    "\n",
    "filter (fun x -> x % 2 = 0) [1;2;3;4;5;6]\n",
    "\n",
    "map ((+) 3) [1;2;3]\n",
    "\n",
    "let addThree = fun x -> fun y -> fun z -> x + y + z\n",
    "\n",
    "addThree 1 2 3\n",
    "\n",
    "[1;2;3] |> List.fold (+) 0"
   ]
  },
  {
   "cell_type": "code",
   "execution_count": null,
   "metadata": {
    "dotnet_interactive": {
     "language": "fsharp"
    },
    "polyglot_notebook": {
     "kernelName": "fsharp"
    }
   },
   "outputs": [],
   "source": [
    "let rec quicksort = function\n",
    "  | [] -> []\n",
    "  |  x::xs ->\n",
    "      let smallerOrEqual, greaterThan = List.partition ((>=) x) xs\n",
    "      quicksort smallerOrEqual @ [x] @ quicksort greaterThan\n",
    "\n",
    "quicksort [4;7;2;8;4;5;1]"
   ]
  }
 ],
 "metadata": {
  "kernelspec": {
   "display_name": ".NET (C#)",
   "language": "C#",
   "name": ".net-csharp"
  },
  "polyglot_notebook": {
   "kernelInfo": {
    "defaultKernelName": "csharp",
    "items": [
     {
      "aliases": [],
      "name": "csharp"
     }
    ]
   }
  }
 },
 "nbformat": 4,
 "nbformat_minor": 2
}
