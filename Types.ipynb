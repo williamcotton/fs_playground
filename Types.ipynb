{
 "cells": [
  {
   "cell_type": "code",
   "execution_count": 27,
   "metadata": {
    "dotnet_interactive": {
     "language": "fsharp"
    },
    "polyglot_notebook": {
     "kernelName": "fsharp"
    }
   },
   "outputs": [
    {
     "data": {
      "text/html": [
       "<details open=\"open\" class=\"dni-treeview\"><summary><span class=\"dni-code-hint\"><code>One &quot;one&quot;</code></span></summary><div><table><thead><tr></tr></thead><tbody><tr><td>Item</td><td><div class=\"dni-plaintext\"><pre>one</pre></div></td></tr></tbody></table></div></details><style>\r\n",
       ".dni-code-hint {\r\n",
       "    font-style: italic;\r\n",
       "    overflow: hidden;\r\n",
       "    white-space: nowrap;\r\n",
       "}\r\n",
       ".dni-treeview {\r\n",
       "    white-space: nowrap;\r\n",
       "}\r\n",
       ".dni-treeview td {\r\n",
       "    vertical-align: top;\r\n",
       "    text-align: start;\r\n",
       "}\r\n",
       "details.dni-treeview {\r\n",
       "    padding-left: 1em;\r\n",
       "}\r\n",
       "table td {\r\n",
       "    text-align: start;\r\n",
       "}\r\n",
       "table tr { \r\n",
       "    vertical-align: top; \r\n",
       "    margin: 0em 0px;\r\n",
       "}\r\n",
       "table tr td pre \r\n",
       "{ \r\n",
       "    vertical-align: top !important; \r\n",
       "    margin: 0em 0px !important;\r\n",
       "} \r\n",
       "table th {\r\n",
       "    text-align: start;\r\n",
       "}\r\n",
       "</style>"
      ]
     },
     "metadata": {},
     "output_type": "display_data"
    }
   ],
   "source": [
    "type Shape =\n",
    "  | Circle of float * float * float\n",
    "  | Rectangle of float * float * float * float\n",
    "\n",
    "let c = Circle(3,4,5)\n",
    "c\n",
    "let r = Rectangle(1,2,3,4)\n",
    "r\n",
    "\n",
    "let area = function\n",
    "  | Circle(_, _, r) -> 3.146986 * pown r 2\n",
    "  | Rectangle(x1, x2, y1, y2) -> abs (x2 - x1) * abs (y2 - y1)\n",
    "\n",
    "area c\n",
    "area r\n",
    "\n",
    "let circles = [4.0; 5.0; 6.0; 7.0] |> List.map (fun r -> Circle(10.0, 20.0, r))\n",
    "circles |> List.map (fun s -> area s)\n",
    "\n",
    "type Test<'x> =\n",
    "  | One of 'x\n",
    "  | Zero\n",
    "\n",
    "let t x = One x\n",
    "\n",
    "t \"one\""
   ]
  },
  {
   "cell_type": "code",
   "execution_count": 41,
   "metadata": {
    "dotnet_interactive": {
     "language": "fsharp"
    },
    "polyglot_notebook": {
     "kernelName": "fsharp"
    }
   },
   "outputs": [
    {
     "data": {
      "text/html": [
       "<div><div></div><div></div><div><strong>Installed Packages</strong><ul><li><span>FSharp.Data, 6.4.0</span></li></ul></div></div>"
      ]
     },
     "metadata": {},
     "output_type": "display_data"
    },
    {
     "name": "stdout",
     "output_type": "stream",
     "text": [
      "Temperature: 23, Description: sunny\n",
      "New Temperature: 1, New Description: test\n",
      "Parsed successfully: Temp 24, Description cloudy\n"
     ]
    },
    {
     "ename": "Error",
     "evalue": "System.Exception: '/temp' is missing\n   at Microsoft.FSharp.Core.PrintfModule.PrintFormatToStringThenFail@1448.Invoke(String message)\n   at <StartupCode$FSI_0066>.$FSI_0066.main@()\n   at System.RuntimeMethodHandle.InvokeMethod(Object target, Void** arguments, Signature sig, Boolean isConstructor)\n   at System.Reflection.MethodBaseInvoker.InvokeWithNoArgs(Object obj, BindingFlags invokeAttr)",
     "output_type": "error",
     "traceback": [
      "System.Exception: '/temp' is missing\n",
      "   at Microsoft.FSharp.Core.PrintfModule.PrintFormatToStringThenFail@1448.Invoke(String message)\n",
      "   at <StartupCode$FSI_0066>.$FSI_0066.main@()\n",
      "   at System.RuntimeMethodHandle.InvokeMethod(Object target, Void** arguments, Signature sig, Boolean isConstructor)\n",
      "   at System.Reflection.MethodBaseInvoker.InvokeWithNoArgs(Object obj, BindingFlags invokeAttr)"
     ]
    }
   ],
   "source": [
    "#r \"nuget: FSharp.Data\"\n",
    "open FSharp.Data\n",
    "\n",
    "type Weather = JsonProvider<\"\"\"{\"temp\": 23, \"description\": \"sunny\"}\"\"\">\n",
    "\n",
    "let sampleWeather = Weather.GetSample()\n",
    "let temperature = sampleWeather.Temp\n",
    "let description = sampleWeather.Description\n",
    "\n",
    "// Outputs\n",
    "printfn \"Temperature: %d, Description: %s\" temperature description\n",
    "\n",
    "// Parsing new JSON string\n",
    "let newWeatherJson = \"\"\"{\"temp\": 1, \"description\": \"test\"}\"\"\"\n",
    "let newWeather = Weather.Parse(newWeatherJson)\n",
    "\n",
    "// Now you can access the fields like this\n",
    "let newTemperature = newWeather.Temp\n",
    "let newDescription = newWeather.Description\n",
    "\n",
    "// Outputting the new values\n",
    "printfn \"New Temperature: %d, New Description: %s\" newTemperature newDescription\n",
    "\n",
    "let safeParseWeather json =\n",
    "    try\n",
    "        let parsedWeather = Weather.Parse(json)\n",
    "        Some(parsedWeather)  // If parsing is successful, return Some with the parsed data\n",
    "    with\n",
    "    | ex -> None  // If parsing fails, return None\n",
    "\n",
    "// Test the function with different JSON scenarios\n",
    "let correctJson = \"\"\"{\"temp\": 24, \"description\": \"cloudy\"}\"\"\"\n",
    "let missingTempJson = \"\"\"{\"description\": \"sunny\"}\"\"\"  // 'temp' field is missing\n",
    "let completelyDifferentJson = \"\"\"{\"a\": 1, \"b\": \"test\"}\"\"\"  // Completely unrelated structure\n",
    "\n",
    "// Mapping the JSON strings through the safeParse function and printing results\n",
    "[correctJson; missingTempJson; completelyDifferentJson]\n",
    "|> List.map safeParseWeather\n",
    "|> List.iter (function\n",
    "    | Some weather -> printfn \"Parsed successfully: Temp %d, Description %s\" weather.Temp weather.Description\n",
    "    | None -> printfn \"JSON failed to parse.\")\n",
    "\n"
   ]
  },
  {
   "cell_type": "code",
   "execution_count": 43,
   "metadata": {
    "dotnet_interactive": {
     "language": "fsharp"
    },
    "polyglot_notebook": {
     "kernelName": "fsharp"
    }
   },
   "outputs": [
    {
     "data": {
      "text/html": [
       "<div><div></div><div></div><div><strong>Installed Packages</strong><ul><li><span>FSharp.Data, 6.4.0</span></li></ul></div></div>"
      ]
     },
     "metadata": {},
     "output_type": "display_data"
    },
    {
     "name": "stdout",
     "output_type": "stream",
     "text": [
      "Parsed successfully: Temp 24, Description cloudy\n"
     ]
    },
    {
     "ename": "Error",
     "evalue": "System.Exception: '/temp' is missing\n   at Microsoft.FSharp.Core.PrintfModule.PrintFormatToStringThenFail@1448.Invoke(String message)\n   at <StartupCode$FSI_0069>.$FSI_0069.main@()\n   at System.RuntimeMethodHandle.InvokeMethod(Object target, Void** arguments, Signature sig, Boolean isConstructor)\n   at System.Reflection.MethodBaseInvoker.InvokeWithNoArgs(Object obj, BindingFlags invokeAttr)",
     "output_type": "error",
     "traceback": [
      "System.Exception: '/temp' is missing\n",
      "   at Microsoft.FSharp.Core.PrintfModule.PrintFormatToStringThenFail@1448.Invoke(String message)\n",
      "   at <StartupCode$FSI_0069>.$FSI_0069.main@()\n",
      "   at System.RuntimeMethodHandle.InvokeMethod(Object target, Void** arguments, Signature sig, Boolean isConstructor)\n",
      "   at System.Reflection.MethodBaseInvoker.InvokeWithNoArgs(Object obj, BindingFlags invokeAttr)"
     ]
    }
   ],
   "source": [
    "#r \"nuget: FSharp.Data\"\n",
    "open FSharp.Data\n",
    "\n",
    "type Weather = JsonProvider<\"\"\"{\"temp\": 23, \"description\": \"sunny\"}\"\"\">\n",
    "\n",
    "let safeParseWeather json =\n",
    "    try\n",
    "        let parsedWeather = Weather.Parse(json)\n",
    "        Ok(parsedWeather)  // If parsing is successful, return Some with the parsed data\n",
    "    with\n",
    "    | ex -> Error ex // If parsing fails, return None\n",
    "\n",
    "// Test the function with different JSON scenarios\n",
    "let correctJson = \"\"\"{\"temp\": 24, \"description\": \"cloudy\"}\"\"\"\n",
    "let missingTempJson = \"\"\"{\"description\": \"sunny\"}\"\"\"  // 'temp' field is missing\n",
    "let completelyDifferentJson = \"\"\"{\"a\": 1, \"b\": \"test\"}\"\"\"  // Completely unrelated structure\n",
    "\n",
    "// Mapping the JSON strings through the safeParse function and printing results\n",
    "[correctJson; missingTempJson; completelyDifferentJson]\n",
    "|> List.map safeParseWeather\n",
    "|> List.iter (function\n",
    "    | Ok weather -> printfn \"Parsed successfully: Temp %d, Description %s\" weather.Temp weather.Description\n",
    "    | Error ex -> printfn \"%A\" ex)\n",
    "\n"
   ]
  }
 ],
 "metadata": {
  "kernelspec": {
   "display_name": ".NET (C#)",
   "language": "C#",
   "name": ".net-csharp"
  },
  "polyglot_notebook": {
   "kernelInfo": {
    "defaultKernelName": "csharp",
    "items": [
     {
      "aliases": [],
      "name": "csharp"
     }
    ]
   }
  }
 },
 "nbformat": 4,
 "nbformat_minor": 2
}
