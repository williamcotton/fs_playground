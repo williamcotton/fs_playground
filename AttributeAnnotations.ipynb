{
 "cells": [
  {
   "cell_type": "code",
   "execution_count": 3,
   "metadata": {
    "dotnet_interactive": {
     "language": "fsharp"
    },
    "polyglot_notebook": {
     "kernelName": "fsharp"
    }
   },
   "outputs": [
    {
     "name": "stdout",
     "output_type": "stream",
     "text": [
      "Property Name is required\n",
      "Property Age must be between 1 and 120\n"
     ]
    }
   ],
   "source": [
    "open System\n",
    "\n",
    "// Define a required attribute\n",
    "[<AttributeUsage(AttributeTargets.Property, AllowMultiple = false)>]\n",
    "type RequiredAttribute() =\n",
    "    inherit Attribute()\n",
    "\n",
    "// Define a range attribute\n",
    "[<AttributeUsage(AttributeTargets.Property, AllowMultiple = false)>]\n",
    "type RangeAttribute(minValue: int, maxValue: int) =\n",
    "    inherit Attribute()\n",
    "    member this.MinValue = minValue\n",
    "    member this.MaxValue = maxValue\n",
    "\n",
    "type Person(name: string, age: int) =\n",
    "    [<Required>]\n",
    "    member val Name = name with get, set\n",
    "\n",
    "    [<Range(1, 120)>]\n",
    "    member val Age = age with get, set\n",
    "\n",
    "open System.Reflection\n",
    "\n",
    "// Helper function to get a custom attribute\n",
    "let tryGetCustomAttribute<'T when 'T :> Attribute> (prop: PropertyInfo) =\n",
    "    match prop.GetCustomAttribute(typeof<'T>, true) with\n",
    "    | null -> None\n",
    "    | attr -> Some (attr :?> 'T)\n",
    "\n",
    "// Function to validate an object based on its attributes\n",
    "let validate (obj: obj) =\n",
    "    let objType = obj.GetType()\n",
    "    let properties = objType.GetProperties()\n",
    "\n",
    "    properties |> Array.iter (fun prop ->\n",
    "        let value = prop.GetValue(obj)\n",
    "        \n",
    "        match tryGetCustomAttribute<RequiredAttribute>(prop) with\n",
    "        | Some _ when value = \"\" -> \n",
    "            printfn \"Property %s is required\" prop.Name\n",
    "        | _ -> ()\n",
    "\n",
    "        match tryGetCustomAttribute<RangeAttribute>(prop) with\n",
    "        | Some attr ->\n",
    "            let intValue = value :?> int\n",
    "            if intValue < attr.MinValue || intValue > attr.MaxValue then\n",
    "                printfn \"Property %s must be between %d and %d\" prop.Name attr.MinValue attr.MaxValue\n",
    "        | None -> ())\n",
    "\n",
    "// Example usage\n",
    "let person = Person(\"\", 130)\n",
    "validate person\n",
    "\n",
    "\n"
   ]
  }
 ],
 "metadata": {
  "kernelspec": {
   "display_name": ".NET (C#)",
   "language": "C#",
   "name": ".net-csharp"
  },
  "polyglot_notebook": {
   "kernelInfo": {
    "defaultKernelName": "csharp",
    "items": [
     {
      "aliases": [],
      "name": "csharp"
     },
     {
      "aliases": [],
      "languageName": "fsharp",
      "name": "fsharp"
     }
    ]
   }
  }
 },
 "nbformat": 4,
 "nbformat_minor": 2
}
