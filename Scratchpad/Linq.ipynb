{
 "cells": [
  {
   "cell_type": "code",
   "execution_count": 5,
   "metadata": {
    "dotnet_interactive": {
     "language": "csharp"
    },
    "polyglot_notebook": {
     "kernelName": "csharp"
    }
   },
   "outputs": [
    {
     "data": {
      "text/html": [
       "<div class=\"dni-plaintext\"><pre>[ 2, 4, 6, 8, 10 ]</pre></div><style>\r\n",
       ".dni-code-hint {\r\n",
       "    font-style: italic;\r\n",
       "    overflow: hidden;\r\n",
       "    white-space: nowrap;\r\n",
       "}\r\n",
       ".dni-treeview {\r\n",
       "    white-space: nowrap;\r\n",
       "}\r\n",
       ".dni-treeview td {\r\n",
       "    vertical-align: top;\r\n",
       "    text-align: start;\r\n",
       "}\r\n",
       "details.dni-treeview {\r\n",
       "    padding-left: 1em;\r\n",
       "}\r\n",
       "table td {\r\n",
       "    text-align: start;\r\n",
       "}\r\n",
       "table tr { \r\n",
       "    vertical-align: top; \r\n",
       "    margin: 0em 0px;\r\n",
       "}\r\n",
       "table tr td pre \r\n",
       "{ \r\n",
       "    vertical-align: top !important; \r\n",
       "    margin: 0em 0px !important;\r\n",
       "} \r\n",
       "table th {\r\n",
       "    text-align: start;\r\n",
       "}\r\n",
       "</style>"
      ]
     },
     "metadata": {},
     "output_type": "display_data"
    }
   ],
   "source": [
    "var numbers = new List<int> { 1, 2, 3, 4, 5, 6, 7, 8, 9, 10 };\n",
    "var evenNumbers = numbers.Where(n => n % 2 == 0);\n",
    "evenNumbers.ToList()"
   ]
  },
  {
   "cell_type": "code",
   "execution_count": 8,
   "metadata": {
    "dotnet_interactive": {
     "language": "fsharp"
    },
    "polyglot_notebook": {
     "kernelName": "fsharp"
    }
   },
   "outputs": [
    {
     "data": {
      "text/html": [
       "<div class=\"dni-plaintext\"><pre>[ 2, 4 ]</pre></div><style>\r\n",
       ".dni-code-hint {\r\n",
       "    font-style: italic;\r\n",
       "    overflow: hidden;\r\n",
       "    white-space: nowrap;\r\n",
       "}\r\n",
       ".dni-treeview {\r\n",
       "    white-space: nowrap;\r\n",
       "}\r\n",
       ".dni-treeview td {\r\n",
       "    vertical-align: top;\r\n",
       "    text-align: start;\r\n",
       "}\r\n",
       "details.dni-treeview {\r\n",
       "    padding-left: 1em;\r\n",
       "}\r\n",
       "table td {\r\n",
       "    text-align: start;\r\n",
       "}\r\n",
       "table tr { \r\n",
       "    vertical-align: top; \r\n",
       "    margin: 0em 0px;\r\n",
       "}\r\n",
       "table tr td pre \r\n",
       "{ \r\n",
       "    vertical-align: top !important; \r\n",
       "    margin: 0em 0px !important;\r\n",
       "} \r\n",
       "table th {\r\n",
       "    text-align: start;\r\n",
       "}\r\n",
       "</style>"
      ]
     },
     "metadata": {},
     "output_type": "display_data"
    }
   ],
   "source": [
    "let numbers = [1; 2; 3; 4; 5]\n",
    "let evenNumbers = numbers |> List.filter (fun n -> n % 2 = 0)\n",
    "List.toArray evenNumbers"
   ]
  },
  {
   "cell_type": "code",
   "execution_count": 11,
   "metadata": {
    "dotnet_interactive": {
     "language": "fsharp"
    },
    "polyglot_notebook": {
     "kernelName": "fsharp"
    }
   },
   "outputs": [
    {
     "data": {
      "text/html": [
       "<div class=\"dni-plaintext\"><pre>[ 2, 4 ]</pre></div><style>\r\n",
       ".dni-code-hint {\r\n",
       "    font-style: italic;\r\n",
       "    overflow: hidden;\r\n",
       "    white-space: nowrap;\r\n",
       "}\r\n",
       ".dni-treeview {\r\n",
       "    white-space: nowrap;\r\n",
       "}\r\n",
       ".dni-treeview td {\r\n",
       "    vertical-align: top;\r\n",
       "    text-align: start;\r\n",
       "}\r\n",
       "details.dni-treeview {\r\n",
       "    padding-left: 1em;\r\n",
       "}\r\n",
       "table td {\r\n",
       "    text-align: start;\r\n",
       "}\r\n",
       "table tr { \r\n",
       "    vertical-align: top; \r\n",
       "    margin: 0em 0px;\r\n",
       "}\r\n",
       "table tr td pre \r\n",
       "{ \r\n",
       "    vertical-align: top !important; \r\n",
       "    margin: 0em 0px !important;\r\n",
       "} \r\n",
       "table th {\r\n",
       "    text-align: start;\r\n",
       "}\r\n",
       "</style>"
      ]
     },
     "metadata": {},
     "output_type": "display_data"
    }
   ],
   "source": [
    "let evenNumbers = \n",
    "    query {\n",
    "        for n in numbers do\n",
    "        where (n % 2 = 0)\n",
    "        select n\n",
    "    }\n",
    "evenNumbers |> Seq.toArray"
   ]
  },
  {
   "cell_type": "code",
   "execution_count": 13,
   "metadata": {},
   "outputs": [
    {
     "data": {
      "text/html": [
       "<div class=\"dni-plaintext\"><pre>[ 1, 3, 5, 7, 9 ]</pre></div><style>\r\n",
       ".dni-code-hint {\r\n",
       "    font-style: italic;\r\n",
       "    overflow: hidden;\r\n",
       "    white-space: nowrap;\r\n",
       "}\r\n",
       ".dni-treeview {\r\n",
       "    white-space: nowrap;\r\n",
       "}\r\n",
       ".dni-treeview td {\r\n",
       "    vertical-align: top;\r\n",
       "    text-align: start;\r\n",
       "}\r\n",
       "details.dni-treeview {\r\n",
       "    padding-left: 1em;\r\n",
       "}\r\n",
       "table td {\r\n",
       "    text-align: start;\r\n",
       "}\r\n",
       "table tr { \r\n",
       "    vertical-align: top; \r\n",
       "    margin: 0em 0px;\r\n",
       "}\r\n",
       "table tr td pre \r\n",
       "{ \r\n",
       "    vertical-align: top !important; \r\n",
       "    margin: 0em 0px !important;\r\n",
       "} \r\n",
       "table th {\r\n",
       "    text-align: start;\r\n",
       "}\r\n",
       "</style>"
      ]
     },
     "metadata": {},
     "output_type": "display_data"
    }
   ],
   "source": [
    "var numbers = new[] { 1, 2, 3, 4, 5, 6, 7, 8, 9, 10 };\n",
    "\n",
    "var oddNumbers = from num in numbers\n",
    "                  where num % 2 == 1\n",
    "                  select num;\n",
    "oddNumbers.ToArray()"
   ]
  },
  {
   "cell_type": "code",
   "execution_count": 14,
   "metadata": {},
   "outputs": [
    {
     "data": {
      "text/html": [
       "<div><div></div><div></div><div><strong>Installed Packages</strong><ul><li><span>Newtonsoft.Json, 13.0.1</span></li></ul></div></div>"
      ]
     },
     "metadata": {},
     "output_type": "display_data"
    }
   ],
   "source": [
    "#r \"nuget: Newtonsoft.Json, 13.0.1\"\n",
    "\n",
    "using System;\n",
    "using System.Collections.Generic;\n",
    "using System.Linq;\n",
    "using System.Xml.Linq;\n",
    "using Newtonsoft.Json.Linq;\n",
    "\n",
    "public class Student\n",
    "{\n",
    "    public string FirstName { get; set; }\n",
    "    public string LastName { get; set; }\n",
    "    public double GradePointAverage { get; set; }\n",
    "}"
   ]
  },
  {
   "cell_type": "code",
   "execution_count": 15,
   "metadata": {},
   "outputs": [
    {
     "name": "stdout",
     "output_type": "stream",
     "text": [
      "Johnson, Alice: 3.8\n",
      "Smith, Bob: 3.2\n",
      "Wilson, Diana: 3.5\n"
     ]
    }
   ],
   "source": [
    "var studentList = new List<Student>\n",
    "{\n",
    "    new Student { FirstName = \"Alice\", LastName = \"Johnson\", GradePointAverage = 3.8 },\n",
    "    new Student { FirstName = \"Bob\", LastName = \"Smith\", GradePointAverage = 3.2 },\n",
    "    new Student { FirstName = \"Charlie\", LastName = \"Brown\", GradePointAverage = 2.9 },\n",
    "    new Student { FirstName = \"Diana\", LastName = \"Wilson\", GradePointAverage = 3.5 }\n",
    "};\n",
    "\n",
    "var query1 = from student in studentList\n",
    "             where student.GradePointAverage > 3.0\n",
    "             orderby student.LastName, student.FirstName\n",
    "             select new { student.LastName, student.FirstName, student.GradePointAverage };\n",
    "\n",
    "foreach (var student in query1)\n",
    "{\n",
    "    Console.WriteLine($\"{student.LastName}, {student.FirstName}: {student.GradePointAverage}\");\n",
    "}"
   ]
  },
  {
   "cell_type": "code",
   "execution_count": 16,
   "metadata": {},
   "outputs": [
    {
     "name": "stdout",
     "output_type": "stream",
     "text": [
      "Davis, Eve: 3.9\n",
      "Miller, Frank: 3.1\n",
      "Taylor, Grace: 3.7\n"
     ]
    }
   ],
   "source": [
    "var studentArray = new[]\n",
    "{\n",
    "    new { FirstName = \"Eve\", LastName = \"Davis\", GradePointAverage = 3.9 },\n",
    "    new { FirstName = \"Frank\", LastName = \"Miller\", GradePointAverage = 3.1 },\n",
    "    new { FirstName = \"Grace\", LastName = \"Taylor\", GradePointAverage = 3.7 },\n",
    "    new { FirstName = \"Henry\", LastName = \"Anderson\", GradePointAverage = 2.8 }\n",
    "};\n",
    "\n",
    "var query2 = from student in studentArray\n",
    "             where student.GradePointAverage > 3.0\n",
    "             orderby student.LastName, student.FirstName\n",
    "             select new { student.LastName, student.FirstName, student.GradePointAverage };\n",
    "\n",
    "foreach (var student in query2)\n",
    "{\n",
    "    Console.WriteLine($\"{student.LastName}, {student.FirstName}: {student.GradePointAverage}\");\n",
    "}"
   ]
  },
  {
   "cell_type": "code",
   "execution_count": 17,
   "metadata": {},
   "outputs": [
    {
     "name": "stdout",
     "output_type": "stream",
     "text": [
      "Clark, Ivy: 3.6\n",
      "Harris, Liam: 3.4\n",
      "Lewis, Jack: 3.3\n"
     ]
    }
   ],
   "source": [
    "string xmlData = @\"\n",
    "    <Students>\n",
    "        <Student>\n",
    "            <FirstName>Ivy</FirstName>\n",
    "            <LastName>Clark</LastName>\n",
    "            <GradePointAverage>3.6</GradePointAverage>\n",
    "        </Student>\n",
    "        <Student>\n",
    "            <FirstName>Jack</FirstName>\n",
    "            <LastName>Lewis</LastName>\n",
    "            <GradePointAverage>3.3</GradePointAverage>\n",
    "        </Student>\n",
    "        <Student>\n",
    "            <FirstName>Karen</FirstName>\n",
    "            <LastName>Moore</LastName>\n",
    "            <GradePointAverage>3.0</GradePointAverage>\n",
    "        </Student>\n",
    "        <Student>\n",
    "            <FirstName>Liam</FirstName>\n",
    "            <LastName>Harris</LastName>\n",
    "            <GradePointAverage>3.4</GradePointAverage>\n",
    "        </Student>\n",
    "    </Students>\";\n",
    "\n",
    "XDocument doc = XDocument.Parse(xmlData);\n",
    "\n",
    "var query3 = from student in doc.Descendants(\"Student\")\n",
    "             let gpa = (double)student.Element(\"GradePointAverage\")\n",
    "             where gpa > 3.0\n",
    "             orderby (string)student.Element(\"LastName\"), (string)student.Element(\"FirstName\")\n",
    "             select new\n",
    "             {\n",
    "                 LastName = (string)student.Element(\"LastName\"),\n",
    "                 FirstName = (string)student.Element(\"FirstName\"),\n",
    "                 GradePointAverage = gpa\n",
    "             };\n",
    "\n",
    "foreach (var student in query3)\n",
    "{\n",
    "    Console.WriteLine($\"{student.LastName}, {student.FirstName}: {student.GradePointAverage}\");\n",
    "}"
   ]
  },
  {
   "cell_type": "code",
   "execution_count": 18,
   "metadata": {},
   "outputs": [
    {
     "name": "stdout",
     "output_type": "stream",
     "text": [
      "Davis, Patricia: 3.5\n",
      "Garcia, Nancy: 3.8\n",
      "Wilson, Mark: 3.2\n"
     ]
    }
   ],
   "source": [
    "string jsonData = @\"\n",
    "{\n",
    "    \"\"students\"\": [\n",
    "        {\n",
    "            \"\"firstName\"\": \"\"Mark\"\",\n",
    "            \"\"lastName\"\": \"\"Wilson\"\",\n",
    "            \"\"gradePointAverage\"\": 3.2\n",
    "        },\n",
    "        {\n",
    "            \"\"firstName\"\": \"\"Nancy\"\",\n",
    "            \"\"lastName\"\": \"\"Garcia\"\",\n",
    "            \"\"gradePointAverage\"\": 3.8\n",
    "        },\n",
    "        {\n",
    "            \"\"firstName\"\": \"\"Oliver\"\",\n",
    "            \"\"lastName\"\": \"\"Brown\"\",\n",
    "            \"\"gradePointAverage\"\": 2.9\n",
    "        },\n",
    "        {\n",
    "            \"\"firstName\"\": \"\"Patricia\"\",\n",
    "            \"\"lastName\"\": \"\"Davis\"\",\n",
    "            \"\"gradePointAverage\"\": 3.5\n",
    "        }\n",
    "    ]\n",
    "}\";\n",
    "\n",
    "JObject jsonObject = JObject.Parse(jsonData);\n",
    "\n",
    "var query4 = from student in jsonObject[\"students\"]\n",
    "             let gpa = (double)student[\"gradePointAverage\"]\n",
    "             where gpa > 3.0\n",
    "             orderby (string)student[\"lastName\"], (string)student[\"firstName\"]\n",
    "             select new\n",
    "             {\n",
    "                 LastName = (string)student[\"lastName\"],\n",
    "                 FirstName = (string)student[\"firstName\"],\n",
    "                 GradePointAverage = gpa\n",
    "             };\n",
    "\n",
    "foreach (var student in query4)\n",
    "{\n",
    "    Console.WriteLine($\"{student.LastName}, {student.FirstName}: {student.GradePointAverage}\");\n",
    "}"
   ]
  },
  {
   "cell_type": "code",
   "execution_count": 21,
   "metadata": {
    "dotnet_interactive": {
     "language": "fsharp"
    },
    "polyglot_notebook": {
     "kernelName": "fsharp"
    }
   },
   "outputs": [
    {
     "data": {
      "text/html": [
       "<div><div></div><div></div><div><strong>Installed Packages</strong><ul><li><span>Newtonsoft.Json, 13.0.1</span></li></ul></div></div>"
      ]
     },
     "metadata": {},
     "output_type": "display_data"
    }
   ],
   "source": [
    "#r \"nuget: Newtonsoft.Json, 13.0.1\"\n",
    "\n",
    "open System\n",
    "open System.Xml.Linq\n",
    "open Newtonsoft.Json.Linq\n",
    "\n",
    "type Student = {\n",
    "    FirstName: string\n",
    "    LastName: string\n",
    "    GradePointAverage: float\n",
    "}\n"
   ]
  },
  {
   "cell_type": "code",
   "execution_count": 22,
   "metadata": {
    "dotnet_interactive": {
     "language": "fsharp"
    },
    "polyglot_notebook": {
     "kernelName": "fsharp"
    }
   },
   "outputs": [
    {
     "name": "stdout",
     "output_type": "stream",
     "text": [
      "Johnson, Alice: 3.800000\n",
      "Smith, Bob: 3.200000\n",
      "Wilson, Diana: 3.500000\n"
     ]
    }
   ],
   "source": [
    "let studentList = [\n",
    "    { FirstName = \"Alice\"; LastName = \"Johnson\"; GradePointAverage = 3.8 }\n",
    "    { FirstName = \"Bob\"; LastName = \"Smith\"; GradePointAverage = 3.2 }\n",
    "    { FirstName = \"Charlie\"; LastName = \"Brown\"; GradePointAverage = 2.9 }\n",
    "    { FirstName = \"Diana\"; LastName = \"Wilson\"; GradePointAverage = 3.5 }\n",
    "]\n",
    "\n",
    "let query1 = \n",
    "    query {\n",
    "        for student in studentList do\n",
    "        where (student.GradePointAverage > 3.0)\n",
    "        sortBy student.LastName\n",
    "        thenBy student.FirstName\n",
    "        select (student.LastName, student.FirstName, student.GradePointAverage)\n",
    "    }\n",
    "\n",
    "for (lastName, firstName, gpa) in query1 do\n",
    "    printfn \"%s, %s: %f\" lastName firstName gpa"
   ]
  },
  {
   "cell_type": "code",
   "execution_count": 23,
   "metadata": {
    "dotnet_interactive": {
     "language": "fsharp"
    },
    "polyglot_notebook": {
     "kernelName": "fsharp"
    }
   },
   "outputs": [
    {
     "name": "stdout",
     "output_type": "stream",
     "text": [
      "Davis, Eve: 3.900000\n",
      "Miller, Frank: 3.100000\n",
      "Taylor, Grace: 3.700000\n"
     ]
    }
   ],
   "source": [
    "let studentArray = [|\n",
    "    {| FirstName = \"Eve\"; LastName = \"Davis\"; GradePointAverage = 3.9 |}\n",
    "    {| FirstName = \"Frank\"; LastName = \"Miller\"; GradePointAverage = 3.1 |}\n",
    "    {| FirstName = \"Grace\"; LastName = \"Taylor\"; GradePointAverage = 3.7 |}\n",
    "    {| FirstName = \"Henry\"; LastName = \"Anderson\"; GradePointAverage = 2.8 |}\n",
    "|]\n",
    "\n",
    "let query2 = \n",
    "    query {\n",
    "        for student in studentArray do\n",
    "        where (student.GradePointAverage > 3.0)\n",
    "        sortBy student.LastName\n",
    "        thenBy student.FirstName\n",
    "        select (student.LastName, student.FirstName, student.GradePointAverage)\n",
    "    }\n",
    "\n",
    "for (lastName, firstName, gpa) in query2 do\n",
    "    printfn \"%s, %s: %f\" lastName firstName gpa"
   ]
  },
  {
   "cell_type": "code",
   "execution_count": 24,
   "metadata": {
    "dotnet_interactive": {
     "language": "fsharp"
    },
    "polyglot_notebook": {
     "kernelName": "fsharp"
    }
   },
   "outputs": [
    {
     "name": "stdout",
     "output_type": "stream",
     "text": [
      "Clark, Ivy: 3.600000\n",
      "Harris, Liam: 3.400000\n",
      "Lewis, Jack: 3.300000\n"
     ]
    }
   ],
   "source": [
    "let xmlData = \"\"\"\n",
    "    <Students>\n",
    "        <Student>\n",
    "            <FirstName>Ivy</FirstName>\n",
    "            <LastName>Clark</LastName>\n",
    "            <GradePointAverage>3.6</GradePointAverage>\n",
    "        </Student>\n",
    "        <Student>\n",
    "            <FirstName>Jack</FirstName>\n",
    "            <LastName>Lewis</LastName>\n",
    "            <GradePointAverage>3.3</GradePointAverage>\n",
    "        </Student>\n",
    "        <Student>\n",
    "            <FirstName>Karen</FirstName>\n",
    "            <LastName>Moore</LastName>\n",
    "            <GradePointAverage>3.0</GradePointAverage>\n",
    "        </Student>\n",
    "        <Student>\n",
    "            <FirstName>Liam</FirstName>\n",
    "            <LastName>Harris</LastName>\n",
    "            <GradePointAverage>3.4</GradePointAverage>\n",
    "        </Student>\n",
    "    </Students>\"\"\"\n",
    "\n",
    "let doc = XDocument.Parse(xmlData)\n",
    "\n",
    "let query3 = \n",
    "    query {\n",
    "        for student in doc.Descendants(\"Student\") do\n",
    "        let gpa = float (student.Element(\"GradePointAverage\").Value)\n",
    "        where (gpa > 3.0)\n",
    "        sortBy (student.Element(\"LastName\").Value)\n",
    "        thenBy (student.Element(\"FirstName\").Value)\n",
    "        select (student.Element(\"LastName\").Value, \n",
    "                student.Element(\"FirstName\").Value, \n",
    "                gpa)\n",
    "    }\n",
    "\n",
    "for (lastName, firstName, gpa) in query3 do\n",
    "    printfn \"%s, %s: %f\" lastName firstName gpa"
   ]
  },
  {
   "cell_type": "code",
   "execution_count": 25,
   "metadata": {
    "dotnet_interactive": {
     "language": "fsharp"
    },
    "polyglot_notebook": {
     "kernelName": "fsharp"
    }
   },
   "outputs": [
    {
     "name": "stdout",
     "output_type": "stream",
     "text": [
      "Davis, Patricia: 3.500000\n",
      "Garcia, Nancy: 3.800000\n",
      "Wilson, Mark: 3.200000\n"
     ]
    }
   ],
   "source": [
    "let jsonData = \"\"\"\n",
    "{\n",
    "    \"students\": [\n",
    "        {\n",
    "            \"firstName\": \"Mark\",\n",
    "            \"lastName\": \"Wilson\",\n",
    "            \"gradePointAverage\": 3.2\n",
    "        },\n",
    "        {\n",
    "            \"firstName\": \"Nancy\",\n",
    "            \"lastName\": \"Garcia\",\n",
    "            \"gradePointAverage\": 3.8\n",
    "        },\n",
    "        {\n",
    "            \"firstName\": \"Oliver\",\n",
    "            \"lastName\": \"Brown\",\n",
    "            \"gradePointAverage\": 2.9\n",
    "        },\n",
    "        {\n",
    "            \"firstName\": \"Patricia\",\n",
    "            \"lastName\": \"Davis\",\n",
    "            \"gradePointAverage\": 3.5\n",
    "        }\n",
    "    ]\n",
    "}\"\"\"\n",
    "\n",
    "let jsonObject = JObject.Parse(jsonData)\n",
    "\n",
    "let query4 = \n",
    "    query {\n",
    "        for student in jsonObject.[\"students\"] do\n",
    "        let gpa = float (student.[\"gradePointAverage\"].ToString())\n",
    "        where (gpa > 3.0)\n",
    "        sortBy (student.[\"lastName\"].ToString())\n",
    "        thenBy (student.[\"firstName\"].ToString())\n",
    "        select (student.[\"lastName\"].ToString(), \n",
    "                student.[\"firstName\"].ToString(), \n",
    "                gpa)\n",
    "    }\n",
    "\n",
    "for (lastName, firstName, gpa) in query4 do\n",
    "    printfn \"%s, %s: %f\" lastName firstName gpa"
   ]
  }
 ],
 "metadata": {
  "kernelspec": {
   "display_name": ".NET (C#)",
   "language": "C#",
   "name": ".net-csharp"
  },
  "polyglot_notebook": {
   "kernelInfo": {
    "defaultKernelName": "csharp",
    "items": [
     {
      "aliases": [],
      "name": "csharp"
     }
    ]
   }
  }
 },
 "nbformat": 4,
 "nbformat_minor": 2
}
